{
 "cells": [
  {
   "cell_type": "code",
   "execution_count": 1,
   "metadata": {},
   "outputs": [],
   "source": [
    "#imports\n",
    "import pandas as pd\n",
    "import matplotlib.pyplot as plt"
   ]
  },
  {
   "cell_type": "code",
   "execution_count": 3,
   "metadata": {},
   "outputs": [],
   "source": [
    "#load data as pandas dataframe\n",
    "data_csv = pd.read_csv('op.csv')\n",
    "data_json = pd.read_json('opj.json')"
   ]
  },
  {
   "cell_type": "code",
   "execution_count": 4,
   "metadata": {},
   "outputs": [
    {
     "data": {
      "text/html": [
       "<div>\n",
       "<style scoped>\n",
       "    .dataframe tbody tr th:only-of-type {\n",
       "        vertical-align: middle;\n",
       "    }\n",
       "\n",
       "    .dataframe tbody tr th {\n",
       "        vertical-align: top;\n",
       "    }\n",
       "\n",
       "    .dataframe thead th {\n",
       "        text-align: right;\n",
       "    }\n",
       "</style>\n",
       "<table border=\"1\" class=\"dataframe\">\n",
       "  <thead>\n",
       "    <tr style=\"text-align: right;\">\n",
       "      <th></th>\n",
       "      <th>Unnamed: 0</th>\n",
       "      <th>rank</th>\n",
       "      <th>trend</th>\n",
       "      <th>season</th>\n",
       "      <th>episode</th>\n",
       "      <th>name</th>\n",
       "      <th>start</th>\n",
       "      <th>total_votes</th>\n",
       "      <th>average_rating</th>\n",
       "    </tr>\n",
       "  </thead>\n",
       "  <tbody>\n",
       "    <tr>\n",
       "      <th>0</th>\n",
       "      <td>0</td>\n",
       "      <td>24,129</td>\n",
       "      <td>18</td>\n",
       "      <td>1</td>\n",
       "      <td>1</td>\n",
       "      <td>I'm Luffy! The Man Who Will Become the Pirate ...</td>\n",
       "      <td>1999</td>\n",
       "      <td>647</td>\n",
       "      <td>7.6</td>\n",
       "    </tr>\n",
       "    <tr>\n",
       "      <th>1</th>\n",
       "      <td>1</td>\n",
       "      <td>29,290</td>\n",
       "      <td>11</td>\n",
       "      <td>1</td>\n",
       "      <td>2</td>\n",
       "      <td>The Great Swordsman Appears! Pirate Hunter, Ro...</td>\n",
       "      <td>1999</td>\n",
       "      <td>473</td>\n",
       "      <td>7.8</td>\n",
       "    </tr>\n",
       "    <tr>\n",
       "      <th>2</th>\n",
       "      <td>2</td>\n",
       "      <td>32,043</td>\n",
       "      <td>7</td>\n",
       "      <td>1</td>\n",
       "      <td>3</td>\n",
       "      <td>Morgan vs. Luffy! Who's This Beautiful Young G...</td>\n",
       "      <td>1999</td>\n",
       "      <td>428</td>\n",
       "      <td>7.7</td>\n",
       "    </tr>\n",
       "    <tr>\n",
       "      <th>3</th>\n",
       "      <td>3</td>\n",
       "      <td>28,818</td>\n",
       "      <td>8</td>\n",
       "      <td>1</td>\n",
       "      <td>4</td>\n",
       "      <td>Luffy's Past! The Red-haired Shanks Appears!</td>\n",
       "      <td>1999</td>\n",
       "      <td>449</td>\n",
       "      <td>8.1</td>\n",
       "    </tr>\n",
       "    <tr>\n",
       "      <th>4</th>\n",
       "      <td>4</td>\n",
       "      <td>37,113</td>\n",
       "      <td>4</td>\n",
       "      <td>1</td>\n",
       "      <td>5</td>\n",
       "      <td>Fear, Mysterious Power! Pirate Clown Captain B...</td>\n",
       "      <td>1999</td>\n",
       "      <td>370</td>\n",
       "      <td>7.5</td>\n",
       "    </tr>\n",
       "  </tbody>\n",
       "</table>\n",
       "</div>"
      ],
      "text/plain": [
       "   Unnamed: 0    rank trend  season  episode   \n",
       "0           0  24,129    18       1        1  \\\n",
       "1           1  29,290    11       1        2   \n",
       "2           2  32,043     7       1        3   \n",
       "3           3  28,818     8       1        4   \n",
       "4           4  37,113     4       1        5   \n",
       "\n",
       "                                                name  start total_votes   \n",
       "0  I'm Luffy! The Man Who Will Become the Pirate ...   1999         647  \\\n",
       "1  The Great Swordsman Appears! Pirate Hunter, Ro...   1999         473   \n",
       "2  Morgan vs. Luffy! Who's This Beautiful Young G...   1999         428   \n",
       "3       Luffy's Past! The Red-haired Shanks Appears!   1999         449   \n",
       "4  Fear, Mysterious Power! Pirate Clown Captain B...   1999         370   \n",
       "\n",
       "   average_rating  \n",
       "0             7.6  \n",
       "1             7.8  \n",
       "2             7.7  \n",
       "3             8.1  \n",
       "4             7.5  "
      ]
     },
     "execution_count": 4,
     "metadata": {},
     "output_type": "execute_result"
    }
   ],
   "source": [
    "data_csv.head()"
   ]
  },
  {
   "cell_type": "code",
   "execution_count": 5,
   "metadata": {},
   "outputs": [
    {
     "data": {
      "text/html": [
       "<div>\n",
       "<style scoped>\n",
       "    .dataframe tbody tr th:only-of-type {\n",
       "        vertical-align: middle;\n",
       "    }\n",
       "\n",
       "    .dataframe tbody tr th {\n",
       "        vertical-align: top;\n",
       "    }\n",
       "\n",
       "    .dataframe thead th {\n",
       "        text-align: right;\n",
       "    }\n",
       "</style>\n",
       "<table border=\"1\" class=\"dataframe\">\n",
       "  <thead>\n",
       "    <tr style=\"text-align: right;\">\n",
       "      <th></th>\n",
       "      <th>name</th>\n",
       "      <th>start</th>\n",
       "      <th>total_votes</th>\n",
       "      <th>average_rating</th>\n",
       "      <th>Unnamed: 0</th>\n",
       "      <th>rank</th>\n",
       "      <th>trend</th>\n",
       "      <th>season</th>\n",
       "      <th>episode</th>\n",
       "    </tr>\n",
       "  </thead>\n",
       "  <tbody>\n",
       "    <tr>\n",
       "      <th>0</th>\n",
       "      <td>Houimou o Toppa Seyo! Kaigun Tai Sannin no Sen...</td>\n",
       "      <td>2009</td>\n",
       "      <td>143</td>\n",
       "      <td>8.2</td>\n",
       "      <td>NaN</td>\n",
       "      <td>NaN</td>\n",
       "      <td>NaN</td>\n",
       "      <td>NaN</td>\n",
       "      <td>NaN</td>\n",
       "    </tr>\n",
       "    <tr>\n",
       "      <th>1</th>\n",
       "      <td>Roger to Rayleigh: Kaizoku Ou to Sono Migiude</td>\n",
       "      <td>2009</td>\n",
       "      <td>176</td>\n",
       "      <td>8.5</td>\n",
       "      <td>399.0</td>\n",
       "      <td>53,504</td>\n",
       "      <td>5</td>\n",
       "      <td>1.0</td>\n",
       "      <td>400.0</td>\n",
       "    </tr>\n",
       "    <tr>\n",
       "      <th>2</th>\n",
       "      <td>Kaihi Fukanou!? Taishou Kizaru no Kousoku no Keri</td>\n",
       "      <td>2009</td>\n",
       "      <td>144</td>\n",
       "      <td>8.3</td>\n",
       "      <td>400.0</td>\n",
       "      <td>64,260</td>\n",
       "      <td>1</td>\n",
       "      <td>1.0</td>\n",
       "      <td>401.0</td>\n",
       "    </tr>\n",
       "    <tr>\n",
       "      <th>3</th>\n",
       "      <td>Attouteki! Kaigun no Sentou Heiki Pacifista</td>\n",
       "      <td>2009</td>\n",
       "      <td>140</td>\n",
       "      <td>8.3</td>\n",
       "      <td>401.0</td>\n",
       "      <td>65,532</td>\n",
       "      <td>2</td>\n",
       "      <td>1.0</td>\n",
       "      <td>402.0</td>\n",
       "    </tr>\n",
       "    <tr>\n",
       "      <th>4</th>\n",
       "      <td>Saranaru Kyouteki Arawaru! Masakari Katsuida S...</td>\n",
       "      <td>2009</td>\n",
       "      <td>145</td>\n",
       "      <td>8.4</td>\n",
       "      <td>402.0</td>\n",
       "      <td>62,992</td>\n",
       "      <td>3</td>\n",
       "      <td>1.0</td>\n",
       "      <td>403.0</td>\n",
       "    </tr>\n",
       "  </tbody>\n",
       "</table>\n",
       "</div>"
      ],
      "text/plain": [
       "                                                name  start total_votes   \n",
       "0  Houimou o Toppa Seyo! Kaigun Tai Sannin no Sen...   2009         143  \\\n",
       "1      Roger to Rayleigh: Kaizoku Ou to Sono Migiude   2009         176   \n",
       "2  Kaihi Fukanou!? Taishou Kizaru no Kousoku no Keri   2009         144   \n",
       "3        Attouteki! Kaigun no Sentou Heiki Pacifista   2009         140   \n",
       "4  Saranaru Kyouteki Arawaru! Masakari Katsuida S...   2009         145   \n",
       "\n",
       "   average_rating  Unnamed: 0    rank trend  season  episode  \n",
       "0             8.2         NaN     NaN   NaN     NaN      NaN  \n",
       "1             8.5       399.0  53,504     5     1.0    400.0  \n",
       "2             8.3       400.0  64,260     1     1.0    401.0  \n",
       "3             8.3       401.0  65,532     2     1.0    402.0  \n",
       "4             8.4       402.0  62,992     3     1.0    403.0  "
      ]
     },
     "execution_count": 5,
     "metadata": {},
     "output_type": "execute_result"
    }
   ],
   "source": [
    "data_json.head()"
   ]
  },
  {
   "cell_type": "markdown",
   "metadata": {},
   "source": [
    "# MErging"
   ]
  },
  {
   "cell_type": "code",
   "execution_count": 6,
   "metadata": {},
   "outputs": [
    {
     "data": {
      "text/plain": [
       "['name',\n",
       " 'episode',\n",
       " 'trend',\n",
       " 'Unnamed: 0',\n",
       " 'rank',\n",
       " 'start',\n",
       " 'total_votes',\n",
       " 'season',\n",
       " 'average_rating']"
      ]
     },
     "execution_count": 6,
     "metadata": {},
     "output_type": "execute_result"
    }
   ],
   "source": [
    "# get common columns names from both dataframes\n",
    "common_columns = list(set(data_csv.columns).intersection(set(data_json.columns)))\n",
    "common_columns"
   ]
  },
  {
   "cell_type": "code",
   "execution_count": 8,
   "metadata": {},
   "outputs": [
    {
     "name": "stdout",
     "output_type": "stream",
     "text": [
      "<class 'pandas.core.frame.DataFrame'>\n",
      "RangeIndex: 559 entries, 0 to 558\n",
      "Data columns (total 9 columns):\n",
      " #   Column          Non-Null Count  Dtype  \n",
      "---  ------          --------------  -----  \n",
      " 0   Unnamed: 0      559 non-null    int64  \n",
      " 1   rank            559 non-null    object \n",
      " 2   trend           559 non-null    object \n",
      " 3   season          559 non-null    int64  \n",
      " 4   episode         559 non-null    int64  \n",
      " 5   name            559 non-null    object \n",
      " 6   start           559 non-null    int64  \n",
      " 7   total_votes     559 non-null    object \n",
      " 8   average_rating  559 non-null    float64\n",
      "dtypes: float64(1), int64(4), object(4)\n",
      "memory usage: 39.4+ KB\n"
     ]
    }
   ],
   "source": [
    "# merge dataframes on common columns\n",
    "data_merged = pd.merge(data_csv, data_json, on=common_columns)\n",
    "data_merged.info()"
   ]
  },
  {
   "cell_type": "code",
   "execution_count": null,
   "metadata": {},
   "outputs": [],
   "source": [
    "tv= "
   ]
  }
 ],
 "metadata": {
  "kernelspec": {
   "display_name": "Python 3 (ipykernel)",
   "language": "python",
   "name": "python3"
  },
  "language_info": {
   "codemirror_mode": {
    "name": "ipython",
    "version": 3
   },
   "file_extension": ".py",
   "mimetype": "text/x-python",
   "name": "python",
   "nbconvert_exporter": "python",
   "pygments_lexer": "ipython3",
   "version": "3.10.10"
  }
 },
 "nbformat": 4,
 "nbformat_minor": 2
}
